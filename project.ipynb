{
 "cells": [
  {
   "cell_type": "markdown",
   "metadata": {},
   "source": [
    "# IMPROVE CUSTOMER EXPERIENCE FOR EMIRATES AIRLINE TO INCREASE  PROFITS \n",
    "\n",
    "\n",
    "\n",
    "Customer Experience is the sum of all the interactions a customer has with a business and its products or services. It is the customer's perception of a company. In the airline industry, you need to be on top of your game if you want recurrent customers. Emirates is one of the airlines with an average rating of 6/10. From 2010, the rating for the service hasn’t changed much. Improving the customer experience would certainly increase their ratings. \n",
    "\n",
    "However, changing things would mean restructuring their business strategy.The aim of this project is to provide a model which they can use to improve their customer experience without changing too much.\n",
    "\n",
    "\n",
    "### Dataset \n",
    "The data was scraped from airlinequality.com by quankiquanki from Skytrax website: https://github.com/quankiquanki/skytrax-reviews-dataset. Skytrax is probably the best site for customers reviews from the airline industry, where it collects reviews and ratings for each airlines, lounges, seats and airports. Special thanks to reddit user jo698 for recommending this.\n",
    "\n",
    "The dataset used here had a total sample of 691 observations(Emirates only) with 20 columns containing info of the reviewers. The ratings for each attribute ranges from 1 to 5, while the overall rating is from 1-10. \n",
    "\n",
    "### Approach\n",
    "* First, I built a model that can predict the overall rating based on each feature's rating. In order to do that, I conduct OLS Linear model, Ridge linear for parameter regularization and random forest. \n",
    "* Then, I select the best model among these methods and choose the important features for airlines.\n",
    "* Finally, using these features on the best models, I create a table for relative reference in planning targets for attribute ratings. This table together with the selected best model and cost-benefit analysis, Emirates airlines can build a good strategy on where to invest their resources to achieve better performance in customer satisfaction and profits.\n",
    "\n",
    "\n",
    "### Result\n",
    "* Random forest is the best performance with the lowest MSE of 1.64 on the test set. The most important factors in order that may affect overall rating are value-money rating, cabin staff, seat comfort, food beverages and inflight entertainment. These all have positive correlations with overall rating.\n",
    "\n",
    "### Recommendations \n",
    "* Based on its corporate strategy and cost-benefit analysis, Emirates may use the reference table and Random forest model to plan their target for improvement in some services.\n",
    "* While pricing is related closely with business strategy and positioning, Emirates might find it easier to improve its cabin staff and food beverages while still have huge effect on overall rating.\n",
    "\n",
    "### Improvements I can make\n",
    "Do topic and sentiment analysis on the travellers' reviews for Emirates airline to see which topics are most discussed, and alerts on negative reviews to take in-time action.\n"
   ]
  },
  {
   "cell_type": "markdown",
   "metadata": {},
   "source": [
    "## Importing Libraries"
   ]
  },
  {
   "cell_type": "code",
   "execution_count": null,
   "metadata": {},
   "outputs": [],
   "source": [
    "import numpy as np\n",
    "import pandas as pd\n",
    "import scipy.stats as stats\n",
    "import math\n",
    "import matplotlib.pyplot as plt\n",
    "import matplotlib\n",
    "matplotlib.style.use('ggplot')\n",
    "import statsmodels.api as sm"
   ]
  },
  {
   "cell_type": "code",
   "execution_count": null,
   "metadata": {},
   "outputs": [],
   "source": [
    "df=pd.read_csv('airline.csv')"
   ]
  },
  {
   "cell_type": "code",
   "execution_count": null,
   "metadata": {},
   "outputs": [],
   "source": [
    "df_emi=df[df.airline_name=='emirates']\n",
    "df_emi.head(2)"
   ]
  },
  {
   "cell_type": "code",
   "execution_count": null,
   "metadata": {
    "scrolled": false
   },
   "outputs": [],
   "source": [
    "df_emi.describe()"
   ]
  },
  {
   "cell_type": "code",
   "execution_count": null,
   "metadata": {},
   "outputs": [],
   "source": [
    "df_emi.info()"
   ]
  },
  {
   "cell_type": "markdown",
   "metadata": {},
   "source": [
    "* From these descriptive tables, we understand that we have a problem with missing values, but there are outliers. In some features, the rating given is 0, which is invalid as we are only taking into account from 1 to 5. So, those are missing values as well.\n",
    "* It is noticeable that data for overall rating, recommended and value_money rating are nearly full while rating data for ground service and wifi connectivity are mostly missing. Given this fact, there is a high probability that the Emirates do not offer these along certain routes. \n",
    "* The data points with missing values for overall rating will be removed as it is a really important factor."
   ]
  },
  {
   "cell_type": "markdown",
   "metadata": {},
   "source": [
    "## Cleaning"
   ]
  },
  {
   "cell_type": "markdown",
   "metadata": {},
   "source": [
    "In the data cleaning step, I do the following:\n",
    "* Only choose data since 2010\n",
    "* Drop data without overall rating\n",
    "* Drop info that is not needed for modelling purpose: link,content, aircraft type, route, title, author, author country, date, \n",
    "* Encode missing values as 0\n",
    "* Get dummies for traveller type and cabin flown "
   ]
  },
  {
   "cell_type": "code",
   "execution_count": null,
   "metadata": {},
   "outputs": [],
   "source": [
    "df_emi.date=pd.to_datetime(df_emi.date) #change date object into datetime format\n",
    "df_emi=df_emi[df_emi.date>='2010-01-01'] #choose recent dates only\n",
    "df_emi.shape"
   ]
  },
  {
   "cell_type": "code",
   "execution_count": null,
   "metadata": {},
   "outputs": [],
   "source": [
    "#drop data points without overall rating\n",
    "df_clean=df_emi[df_emi['overall_rating'].notnull()]"
   ]
  },
  {
   "cell_type": "code",
   "execution_count": null,
   "metadata": {},
   "outputs": [],
   "source": [
    "#drop some attributes that will not be used in modelling\n",
    "df_clean.drop(['airline_name','link','title','author','author_country','date','content','aircraft','route','recommended'],axis=1, inplace=True)\n"
   ]
  },
  {
   "cell_type": "code",
   "execution_count": null,
   "metadata": {},
   "outputs": [],
   "source": [
    "df_clean.head()"
   ]
  },
  {
   "cell_type": "code",
   "execution_count": null,
   "metadata": {
    "scrolled": true
   },
   "outputs": [],
   "source": [
    "#deal with missing values\n",
    "df_clean=df_clean.fillna({'ground_service_rating':0, 'wifi_connectivity_rating':0,'seat_comfort_rating':0,'cabin_staff_rating':0,'food_beverages_rating':0,'inflight_entertainment_rating':0, 'value_money_rating':0}, inplace=True)\n"
   ]
  },
  {
   "cell_type": "code",
   "execution_count": null,
   "metadata": {},
   "outputs": [],
   "source": [
    "#change types cabin flown and traveler types into category type\n",
    "df_cabin_flown= pd.get_dummies(df_clean['cabin_flown'])\n",
    "df_clean=pd.concat([df_clean, df_cabin_flown], axis=1)\n",
    "df_clean.drop(['cabin_flown'], axis=1, inplace=True)\n",
    "\n",
    "df_type_traveller= pd.get_dummies(df_clean['type_traveller'])\n",
    "df_clean=pd.concat([df_clean, df_type_traveller], axis=1)\n",
    "df_clean.drop(['type_traveller'], axis=1, inplace=True)"
   ]
  },
  {
   "cell_type": "code",
   "execution_count": null,
   "metadata": {},
   "outputs": [],
   "source": [
    "df_clean.isnull().values.any() #check if there are any missing values in dataframe"
   ]
  },
  {
   "cell_type": "code",
   "execution_count": null,
   "metadata": {},
   "outputs": [],
   "source": [
    "df_clean.head()"
   ]
  },
  {
   "cell_type": "code",
   "execution_count": null,
   "metadata": {},
   "outputs": [],
   "source": [
    "df_clean.shape"
   ]
  },
  {
   "cell_type": "markdown",
   "metadata": {},
   "source": [
    "## Descriptive analysis"
   ]
  },
  {
   "cell_type": "code",
   "execution_count": null,
   "metadata": {},
   "outputs": [],
   "source": [
    "correlations=df_clean.corr()\n",
    "names=df_clean.columns\n",
    "fig = plt.figure()\n",
    "ax = fig.add_subplot(111)\n",
    "cax = ax.matshow(correlations, vmin=-1, vmax=1)\n",
    "fig.colorbar(cax)\n",
    "ticks = np.arange(0,16,1)\n",
    "ax.set_xticks(ticks)\n",
    "plt.xticks(rotation=90)\n",
    "ax.set_yticks(ticks)\n",
    "ax.set_xticklabels(names)\n",
    "ax.set_yticklabels(names)\n",
    "plt.show()"
   ]
  },
  {
   "cell_type": "markdown",
   "metadata": {},
   "source": [
    "*From the table, we can see that there are much correlations between cabin staff, food beverages rating and value money rating. Hence, there might be huge bias in case of OLS due to multi-colinearity*"
   ]
  },
  {
   "cell_type": "code",
   "execution_count": null,
   "metadata": {},
   "outputs": [],
   "source": [
    "df_emi['year']=df_emi.date.dt.year\n",
    "df_emi.groupby('year')[['overall_rating']].mean().plot()\n",
    "plt.title('Overall rating over years')\n",
    "plt.yticks(np.arange(0,10,1))\n",
    "plt.legend().remove()\n",
    "plt.show()"
   ]
  },
  {
   "cell_type": "markdown",
   "metadata": {},
   "source": [
    "*The overall rating has risen slightly from around 5.7 to 6.0 point on scale of 10 in 2010-2015 period, which may suggest there has not been much improvement in rating for Emirates airlines.* "
   ]
  },
  {
   "cell_type": "code",
   "execution_count": null,
   "metadata": {},
   "outputs": [],
   "source": [
    "df_emi.groupby('cabin_flown')[['overall_rating']].mean().plot(kind='bar')\n",
    "plt.title('Overall rating over each cabin flown type')\n",
    "plt.legend().remove()\n",
    "plt.show()"
   ]
  },
  {
   "cell_type": "code",
   "execution_count": null,
   "metadata": {},
   "outputs": [],
   "source": [
    "df_emi.groupby('cabin_flown').size()"
   ]
  },
  {
   "cell_type": "markdown",
   "metadata": {},
   "source": [
    "*The rating is similar for economy and business class (around 6.5), while first class seems to enjoy more for Emirates service (nearly 8/10). There is only 1 data point for premium economy class, so we cannot infer much from this.*"
   ]
  },
  {
   "cell_type": "code",
   "execution_count": null,
   "metadata": {},
   "outputs": [],
   "source": [
    "df_emi.groupby('type_traveller')[['overall_rating']].mean().plot(kind='bar')\n",
    "plt.title('Overall rating over traveller type')\n",
    "plt.yticks(np.arange(0,10,1))\n",
    "plt.legend().remove()\n",
    "plt.show()"
   ]
  },
  {
   "cell_type": "markdown",
   "metadata": {},
   "source": [
    "*Business and couple show much more preference in Emirate services while family and solo traveller seem rather dissatisfied (less than 6 score).*"
   ]
  },
  {
   "cell_type": "code",
   "execution_count": null,
   "metadata": {},
   "outputs": [],
   "source": [
    "# Test Ho: the mean of overall rating for business/couple and family/solo traveller are equal\n",
    "bi_cou=df_emi[(df_emi.type_traveller=='Business')|(df_emi.type_traveller=='Couple Leisure')].overall_rating\n",
    "fa_solo=df_emi[(df_emi.type_traveller=='FamilyLeisure')|(df_emi.type_traveller=='Solo Leisure')].overall_rating\n",
    "stats.ttest_ind_from_stats(bi_cou.mean(), bi_cou.std(),len(bi_cou),fa_solo.mean(), fa_solo.std(),len(fa_solo), equal_var=False)"
   ]
  },
  {
   "cell_type": "markdown",
   "metadata": {},
   "source": [
    "*p_value< 0.01, so we can reject the null hypothesis. We may then continue to segment to see what accounts for the difference* "
   ]
  },
  {
   "cell_type": "code",
   "execution_count": null,
   "metadata": {},
   "outputs": [],
   "source": [
    "df_emi.groupby(['type_traveller']).size()"
   ]
  },
  {
   "cell_type": "code",
   "execution_count": null,
   "metadata": {},
   "outputs": [],
   "source": [
    "#df_emi.groupby('type_traveller')[['inflight_entertainment_rating','food_beverages_rating','cabin_staff_rating','seat_comfort_rating','ground_service_rating','wifi_connectivity_rating','value_money_rating']].mean().plot(kind='bar')\n",
    "df_emi.groupby('type_traveller')[['cabin_staff_rating','value_money_rating']].mean().plot(kind='bar')\n",
    "plt.title('Feature ratings over traveller type')\n",
    "plt.legend()\n",
    "plt.show()"
   ]
  },
  {
   "cell_type": "code",
   "execution_count": null,
   "metadata": {},
   "outputs": [],
   "source": [
    "# Test Ho: the mean of cabin staff rating for business/couple and family/solo traveller are equal\n",
    "bi_cou=df_emi[(df_emi.type_traveller=='Business')|(df_emi.type_traveller=='Couple Leisure')].cabin_staff_rating\n",
    "fa_solo=df_emi[(df_emi.type_traveller=='FamilyLeisure')|(df_emi.type_traveller=='Solo Leisure')].cabin_staff_rating\n",
    "stats.ttest_ind_from_stats(bi_cou.mean(), bi_cou.std(),len(bi_cou),fa_solo.mean(), fa_solo.std(),len(fa_solo), equal_var=False)"
   ]
  },
  {
   "cell_type": "markdown",
   "metadata": {},
   "source": [
    " *Cabin staff and value money ratings are significantly lower for Family and Solo travellers than Business or couple.*"
   ]
  },
  {
   "cell_type": "code",
   "execution_count": null,
   "metadata": {},
   "outputs": [],
   "source": [
    "df_emi.groupby('recommended')[['overall_rating']].mean().plot(kind='bar')\n",
    "plt.title('Correlation between overall rating and being recommended')\n",
    "plt.yticks(np.arange(0,10,1))\n",
    "plt.legend().remove()\n",
    "plt.show()"
   ]
  },
  {
   "cell_type": "markdown",
   "metadata": {},
   "source": [
    "*This shows strong positive correlation between overall rating and being recommended. Hence, we only choose one for our analysis* "
   ]
  },
  {
   "cell_type": "code",
   "execution_count": null,
   "metadata": {},
   "outputs": [],
   "source": [
    "df_emi.groupby('food_beverages_rating')[['overall_rating']].mean().plot(kind='bar')\n",
    "plt.title('Correlation between overall rating and food beverage rating')\n",
    "plt.yticks(np.arange(0,10,1))\n",
    "plt.legend().remove()\n",
    "plt.show()"
   ]
  },
  {
   "cell_type": "markdown",
   "metadata": {},
   "source": [
    "*This relationship also makes sense. The higher score for food beverages, the higher the overall score.*"
   ]
  },
  {
   "cell_type": "code",
   "execution_count": null,
   "metadata": {},
   "outputs": [],
   "source": [
    "df_emi.groupby('inflight_entertainment_rating')[['overall_rating']].mean().plot(kind='bar')\n",
    "plt.title('Correlation between overall rating and inflight entertainment')\n",
    "plt.yticks(np.arange(0,10,1))\n",
    "plt.legend().remove()\n",
    "plt.show()"
   ]
  },
  {
   "cell_type": "markdown",
   "metadata": {},
   "source": [
    "## Modelling"
   ]
  },
  {
   "cell_type": "markdown",
   "metadata": {},
   "source": [
    "In order to get the most important features that may affect overall rating, the following steps are conducted:\n",
    "    * Classifiers: OLS, Ridge regression,  Random forest\n",
    "    * Split dataset into train/testset (0.75/0.25), grid search and cross validation with 5 folds \n",
    "    * Metrics: mean squared error"
   ]
  },
  {
   "cell_type": "code",
   "execution_count": null,
   "metadata": {},
   "outputs": [],
   "source": [
    "y=df_clean.overall_rating\n",
    "X=df_clean.drop(['overall_rating'], axis=1)"
   ]
  },
  {
   "cell_type": "code",
   "execution_count": null,
   "metadata": {},
   "outputs": [],
   "source": [
    "from sklearn.model_selection import train_test_split\n",
    "Xlr, Xtestlr, ylr, ytestlr = train_test_split(X,y,random_state=1)\n",
    "from sklearn.metrics import mean_squared_error"
   ]
  },
  {
   "cell_type": "markdown",
   "metadata": {},
   "source": [
    "### Linear regression "
   ]
  },
  {
   "cell_type": "code",
   "execution_count": null,
   "metadata": {},
   "outputs": [],
   "source": [
    "from sklearn.linear_model import LinearRegression\n",
    "from sklearn import model_selection\n",
    "from sklearn.cross_validation import KFold\n",
    "ln=LinearRegression()\n",
    "model = ln.fit(Xlr,ylr)\n",
    "\n",
    "#kfold = KFold(n=len(Xlr), n_folds=5, random_state=1)\n",
    "#results = model_selection.cross_val_score(ln, Xlr, ylr, cv=kfold, scoring='neg_mean_squared_error')\n",
    "#print('mean squared error on train set',(results.mean())*(-1))\n",
    "#print('mean squared error on test set:', mean_squared_error(ytestlr,ln.predict(Xtestlr)))"
   ]
  },
  {
   "cell_type": "code",
   "execution_count": null,
   "metadata": {},
   "outputs": [],
   "source": [
    "predictions = model.predict(Xlr)\n",
    "predictions"
   ]
  },
  {
   "cell_type": "markdown",
   "metadata": {},
   "source": [
    "### Ridge regression "
   ]
  },
  {
   "cell_type": "code",
   "execution_count": null,
   "metadata": {},
   "outputs": [],
   "source": [
    "from sklearn.linear_model import Ridge\n",
    "from sklearn.model_selection import GridSearchCV\n",
    "model = Ridge()\n",
    "model.fit(Xlr, ylr)\n",
    "param_grid = {'alpha':[0.1,0.5,0.7,1.0,5.0,7.0, 10.0,12,15,20,25,70,80,100]} #alpha=0 is actually OLS regression\n",
    "grid = GridSearchCV(model, param_grid, scoring='neg_mean_squared_error')\n",
    "grid.fit(Xlr, ylr)\n",
    "best_params = grid.best_params_\n",
    "model = grid.best_estimator_\n",
    "score = grid.best_score_\n",
    "\n",
    "print(str(best_params))\n",
    "print('mean squared error on train set',abs(score))\n",
    "print('mean squared error on test set:', mean_squared_error(ytestlr,model.predict(Xtestlr)))"
   ]
  },
  {
   "cell_type": "markdown",
   "metadata": {},
   "source": [
    "*The best model is with Ridge regularization for alpha=70*"
   ]
  },
  {
   "cell_type": "code",
   "execution_count": null,
   "metadata": {},
   "outputs": [],
   "source": [
    "pd.DataFrame(list(zip(Xlr.columns, model.coef_)), columns =['Features', 'Estimated Coefficients']).sort_values('Estimated Coefficients', ascending=False)"
   ]
  },
  {
   "cell_type": "markdown",
   "metadata": {},
   "source": [
    "*So the ratings for value money, cabin staff, food beverages, seat comfort and inflight entertainment have the most impact on the overall rating.* "
   ]
  },
  {
   "cell_type": "markdown",
   "metadata": {},
   "source": [
    "### Random forest"
   ]
  },
  {
   "cell_type": "code",
   "execution_count": null,
   "metadata": {},
   "outputs": [],
   "source": [
    "from sklearn.ensemble import RandomForestRegressor\n",
    "from sklearn.model_selection import GridSearchCV\n",
    "forest=RandomForestRegressor(random_state=1)\n",
    "param_grid = {\"max_features\"   : [\"sqrt\",\"log2\", \"auto\"],\n",
    "            \"n_estimators\"     : [200, 500, 1000, 2000],\n",
    "           \"max_depth\"         : [2, 10, 50, 100],\n",
    "           \"min_samples_split\" : [2,  5, 10, 20, 50],\n",
    "            \"min_samples_leaf\" : [1,5,10,20,50]}\n",
    "%timeit\n",
    "grid_search = GridSearchCV(forest, param grid, n_jobs=-1, cv=5, scoring='mean_squared_error')\n",
    "grid_search.fit(Xlr, ylr)\n",
    "print(grid_search.best_params_)\n",
    "print('best mean squared error:',grid_search.best_score_*(-1))"
   ]
  },
  {
   "cell_type": "code",
   "execution_count": null,
   "metadata": {},
   "outputs": [],
   "source": [
    "a,b,c,d,e=grid_search.best_params_.values()\n",
    "forest1=RandomForestRegressor(random_state=1,n_estimators=d, min_samples_split=a,\n",
    "                             max_depth=b, max_features=c, min_samples_leaf=e).fit(Xlr,ylr)\n",
    "importances = forest1.feature_importances_\n",
    "names=list(Xlr.columns.values)\n",
    "features = []\n",
    "indices = np.argsort(importances)[::-1]\n",
    "\n",
    "for f in range(len(importances)):\n",
    "    print(\"%d. feature %d (%f), %s\" % (f + 1, indices[f], importances[indices[f]], names[indices[f]]))\n",
    "    features.append(indices[f])\n",
    "    # Print only first 10 most important variables\n",
    "    if len(features) >= 10:\n",
    "        break\n",
    "featurenames = [names[feature] for feature in features]"
   ]
  },
  {
   "cell_type": "code",
   "execution_count": null,
   "metadata": {},
   "outputs": [],
   "source": [
    "std = np.std([tree.feature_importances_ for tree in forest1.estimators_],axis=0)\n",
    "\n",
    "# Plot the feature importances of the forest\n",
    "print('Feature ranking:')\n",
    "fig=plt.figure()\n",
    "plt.title(\"Feature importances\")\n",
    "plt.bar(range(10), importances[indices[0:10]],\n",
    "       color=\"r\", align=\"center\")\n",
    "plt.xticks(range(len(features)), featurenames,rotation=60)\n",
    "plt.show()\n",
    "fig.savefig('feature important.png')"
   ]
  },
  {
   "cell_type": "code",
   "execution_count": null,
   "metadata": {},
   "outputs": [],
   "source": [
    "print('mean squared error on train set:', grid_search.best_score_*(-1))\n",
    "print('mean squared error on test set:', mean_squared_error(ytestlr,forest1.predict(Xtestlr)))"
   ]
  },
  {
   "cell_type": "markdown",
   "metadata": {},
   "source": [
    "#### Result analysis\n",
    "\n",
    "*With the smallest MSE on the test set, we see that Random forest model performs the best among these 3 models. Hence, we will use Random forest for building our model.*"
   ]
  },
  {
   "cell_type": "markdown",
   "metadata": {},
   "source": [
    "**Model in use**\n",
    "\n",
    "*In the following, I group the rating for each feature where 1-3 is recorded as low, and 4-5 as high. Then, I take the median of predicted overall rating over these subsets of each feature. *"
   ]
  },
  {
   "cell_type": "code",
   "execution_count": null,
   "metadata": {},
   "outputs": [],
   "source": [
    "data_predict=Xtestlr.copy()\n",
    "data_predict['Value money']=(data_predict.value_money_rating<=3)*1\n",
    "data_predict['Cabin']=(data_predict.cabin_staff_rating<=3)*1\n",
    "data_predict['Seat comfort']=(data_predict.seat_comfort_rating<=3)*1\n",
    "data_predict['Food beverages']=(data_predict.food_beverages_rating<=3)*1\n",
    "data_predict['Inflight entertainment']=(data_predict.inflight_entertainment_rating<=3)*1\n",
    "data_predict['Overall rating']=forest1.predict(Xtestlr)"
   ]
  },
  {
   "cell_type": "code",
   "execution_count": null,
   "metadata": {},
   "outputs": [],
   "source": [
    "table=pd.pivot_table(data=data_predict,columns=None, index=['Value money','Cabin','Seat comfort','Food beverages','Inflight entertainment'],values='Overall rating', aggfunc='median')\n",
    "table1=pd.DataFrame(table)\n",
    "table1.rename(index={0:'high',1:'low'}, inplace=True)\n",
    "table1"
   ]
  },
  {
   "cell_type": "markdown",
   "metadata": {},
   "source": [
    "**The above table can serve as a relative reference for setting targets in rating.** \n",
    "\n",
    "*One approach is that after setting goal for overall rating, Emirates can use this table together to visualize metrics for attributes. Then it can plug in some different sets of specific number for each feature rating in Random forest model to get the expected overall rating. Finally, Emirates might use this result in benefit-cost analysis to set goals for the ratings in these features.*\n"
   ]
  }
 ],
 "metadata": {
  "anaconda-cloud": {},
  "kernelspec": {
   "display_name": "Python 3",
   "language": "python",
   "name": "python3"
  },
  "language_info": {
   "codemirror_mode": {
    "name": "ipython",
    "version": 3
   },
   "file_extension": ".py",
   "mimetype": "text/x-python",
   "name": "python",
   "nbconvert_exporter": "python",
   "pygments_lexer": "ipython3",
   "version": "3.6.4"
  }
 },
 "nbformat": 4,
 "nbformat_minor": 1
}
